{
 "cells": [
  {
   "cell_type": "code",
   "execution_count": null,
   "metadata": {},
   "outputs": [],
   "source": [
    "#using class"
   ]
  },
  {
   "cell_type": "code",
   "execution_count": 1,
   "metadata": {},
   "outputs": [],
   "source": [
    "class calculation():\n",
    "    \n",
    "    def subfieldsInAI():\n",
    "        print(\"Sub Fields in AI are:\")\n",
    "        subfields=[\"machine_learning\",\"neural_networking\", \"vision\", \"robotices\", \"speach_processing\", \"NLP\"]\n",
    "        for i in subfields:\n",
    "            print(i)\n",
    "    \n",
    "    \n",
    "    def oddeven():\n",
    "        Num=int(input(\"Enter the number:\"))\n",
    "        if(Num%2==0):\n",
    "            print(Num,\"is even number\")\n",
    "            meassage=\"even number\"\n",
    "        else:\n",
    "            print(Num,\"is odd number\")\n",
    "            meassage=\"odd number\"\n",
    "        return meassage\n",
    "   \n",
    "    \n",
    "    def eligible():\n",
    "        genter=input(\"your genter:\")\n",
    "        age=int(input(\"your age:\"))\n",
    "        if(genter==\"male\"):\n",
    "            if(age==23):\n",
    "                print(\"Eligibel for marriage\")\n",
    "            else:\n",
    "                print(\"Not Eligibel for marriage\")\n",
    "        else:\n",
    "            if(age==18):\n",
    "                print(\"Eligibel for marriage\")\n",
    "            else:\n",
    "                print(\"Not Eligibel for marriage\")\n",
    "   \n",
    "        \n",
    "    def percentage():\n",
    "        s1=int(input(\"subject 1=\"))\n",
    "        s2=int(input(\"subject 2=\"))\n",
    "        s3=int(input(\"subject 3=\"))\n",
    "        s4=int(input(\"subject 4=\"))\n",
    "        s5=int(input(\"subject 5=\"))\n",
    "        total=s1+s2+s3+s4+s5\n",
    "        print(\"total: \",total)\n",
    "        percentage=(total/5)\n",
    "        print(\"percentage: \",percentage)\n",
    "    \n",
    "        \n",
    "    def triangle():\n",
    "        Height=int(input(\"Height:\"))\n",
    "        Breadth=int(input(\"Breadth:\"))\n",
    "        print(\"Area formula: ((Height*Breadth)/2)\")\n",
    "        area=(Height*Breadth)/2\n",
    "        print(\"area of triangle: \",area)  \n",
    "        Height1=int(input(\"Height:\"))\n",
    "        Height2=int(input(\"Height:\"))\n",
    "        Breadth=int(input(\"Breadth:\"))\n",
    "        print(\"Perimeter formula: Height1+Height2+Breadth\")\n",
    "        perimeter=Height1+Height2+Breadth\n",
    "        print(\"perimeter of triangle\",perimeter)\n",
    "    "
   ]
  },
  {
   "cell_type": "code",
   "execution_count": 2,
   "metadata": {},
   "outputs": [
    {
     "name": "stdout",
     "output_type": "stream",
     "text": [
      "subject 1=98\n",
      "subject 2=87\n",
      "subject 3=95\n",
      "subject 4=95\n",
      "subject 5=93\n",
      "total:  468\n",
      "percentage:  93.6\n"
     ]
    }
   ],
   "source": [
    "calulation.percentage()"
   ]
  },
  {
   "cell_type": "code",
   "execution_count": 5,
   "metadata": {},
   "outputs": [
    {
     "name": "stdout",
     "output_type": "stream",
     "text": [
      "your genter:male\n",
      "your age:20\n",
      "Not Eligibel for marriage\n"
     ]
    }
   ],
   "source": [
    "calulation.eligible()\n"
   ]
  },
  {
   "cell_type": "code",
   "execution_count": 6,
   "metadata": {},
   "outputs": [
    {
     "name": "stdout",
     "output_type": "stream",
     "text": [
      "Height:32\n",
      "Breadth:34\n",
      "Area formula: ((Height*Breadth)/2)\n",
      "area of triangle:  544.0\n",
      "Height:4\n",
      "Height:2\n",
      "Breadth:2\n",
      "Perimeter formula: Height1+Height2+Breadth\n",
      "perimeter of triangle 8\n"
     ]
    }
   ],
   "source": [
    "calulation.triangle()"
   ]
  },
  {
   "cell_type": "code",
   "execution_count": 7,
   "metadata": {},
   "outputs": [
    {
     "name": "stdout",
     "output_type": "stream",
     "text": [
      "Enter the number:45\n",
      "45 is odd number\n"
     ]
    },
    {
     "data": {
      "text/plain": [
       "'odd number'"
      ]
     },
     "execution_count": 7,
     "metadata": {},
     "output_type": "execute_result"
    }
   ],
   "source": [
    "calulation.oddeven()"
   ]
  },
  {
   "cell_type": "code",
   "execution_count": 8,
   "metadata": {},
   "outputs": [
    {
     "name": "stdout",
     "output_type": "stream",
     "text": [
      "Sub Fields in AI are:\n",
      "machine_learning\n",
      "neural_networking\n",
      "vision\n",
      "robotices\n",
      "speach_processing\n",
      "NLP\n"
     ]
    }
   ],
   "source": [
    "calulation.subfieldsInAI()"
   ]
  },
  {
   "cell_type": "code",
   "execution_count": null,
   "metadata": {},
   "outputs": [],
   "source": []
  }
 ],
 "metadata": {
  "kernelspec": {
   "display_name": "Python 3",
   "language": "python",
   "name": "python3"
  },
  "language_info": {
   "codemirror_mode": {
    "name": "ipython",
    "version": 3
   },
   "file_extension": ".py",
   "mimetype": "text/x-python",
   "name": "python",
   "nbconvert_exporter": "python",
   "pygments_lexer": "ipython3",
   "version": "3.7.4"
  }
 },
 "nbformat": 4,
 "nbformat_minor": 2
}
