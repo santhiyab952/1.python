{
 "cells": [
  {
   "cell_type": "code",
   "execution_count": null,
   "metadata": {},
   "outputs": [],
   "source": [
    "#creat a class and function "
   ]
  },
  {
   "cell_type": "code",
   "execution_count": 7,
   "metadata": {},
   "outputs": [
    {
     "name": "stdout",
     "output_type": "stream",
     "text": [
      "Sub Fields in AI are:\n",
      "machine_learning\n",
      "neural_networking\n",
      "vision\n",
      "robotices\n",
      "speach_processing\n",
      "NLP\n"
     ]
    }
   ],
   "source": [
    "def subfieldsInAI():\n",
    "    print(\"Sub Fields in AI are:\")\n",
    "    subfields=[\"machine_learning\",\"neural_networking\", \"vision\", \"robotices\", \"speach_processing\", \"NLP\"]\n",
    "    for i in subfields:\n",
    "        print(i)\n",
    "subfieldsInAI()"
   ]
  },
  {
   "cell_type": "code",
   "execution_count": null,
   "metadata": {},
   "outputs": [],
   "source": [
    "#creat a function whether the number is odd or even"
   ]
  },
  {
   "cell_type": "code",
   "execution_count": 8,
   "metadata": {},
   "outputs": [
    {
     "name": "stdout",
     "output_type": "stream",
     "text": [
      "Enter the number:52453\n",
      "52453 is odd number\n"
     ]
    }
   ],
   "source": [
    "def oddeven():\n",
    "    Num=int(input(\"Enter the number:\"))\n",
    "    if(Num%2==0):\n",
    "        print(Num,\"is even number\")\n",
    "        meassage=\"even number\"\n",
    "    else:\n",
    "        print(Num,\"is odd number\")\n",
    "        meassage=\"odd number\"\n",
    "        return meassage\n",
    "meassage=oddeven()"
   ]
  },
  {
   "cell_type": "code",
   "execution_count": 4,
   "metadata": {},
   "outputs": [
    {
     "name": "stdout",
     "output_type": "stream",
     "text": [
      "52452 is even number\n"
     ]
    }
   ],
   "source": [
    "oddeven()"
   ]
  },
  {
   "cell_type": "code",
   "execution_count": null,
   "metadata": {},
   "outputs": [],
   "source": [
    "# Create a function that tells elegibility of marriage for male and female according to their age limit like 21 for male and 18 for female"
   ]
  },
  {
   "cell_type": "code",
   "execution_count": 9,
   "metadata": {},
   "outputs": [
    {
     "name": "stdout",
     "output_type": "stream",
     "text": [
      "your genter:male\n",
      "your age:20\n",
      "Not Eligibel for marriage\n"
     ]
    }
   ],
   "source": [
    "\n",
    "def eligible():\n",
    "    genter=input(\"your genter:\")\n",
    "    age=int(input(\"your age:\"))\n",
    "    if(genter==\"male\"):\n",
    "        if(age==23):\n",
    "            print(\"Eligibel for marriage\")\n",
    "        else:\n",
    "            print(\"Not Eligibel for marriage\")\n",
    "    else:\n",
    "        if(age==18):\n",
    "            print(\"Eligibel for marriage\")\n",
    "        else:\n",
    "            print(\"Not Eligibel for marriage\")\n",
    "eligible()"
   ]
  },
  {
   "cell_type": "code",
   "execution_count": null,
   "metadata": {},
   "outputs": [],
   "source": [
    "# calculate the percentage of your 10th mark"
   ]
  },
  {
   "cell_type": "code",
   "execution_count": 10,
   "metadata": {},
   "outputs": [
    {
     "name": "stdout",
     "output_type": "stream",
     "text": [
      "subject 1=98\n",
      "subject 2=87\n",
      "subject 3=95\n",
      "subject 4=95\n",
      "subject 5=93\n",
      "total:  468\n",
      "percentage:  93.6\n"
     ]
    }
   ],
   "source": [
    "\n",
    "def percentage():\n",
    "    s1=int(input(\"subject 1=\"))\n",
    "    s2=int(input(\"subject 2=\"))\n",
    "    s3=int(input(\"subject 3=\"))\n",
    "    s4=int(input(\"subject 4=\"))\n",
    "    s5=int(input(\"subject 5=\"))\n",
    "    total=s1+s2+s3+s4+s5\n",
    "    print(\"total: \",total)\n",
    "    percentage=(total/5)\n",
    "    print(\"percentage: \",percentage)\n",
    "percentage()\n",
    "    "
   ]
  },
  {
   "cell_type": "code",
   "execution_count": null,
   "metadata": {},
   "outputs": [],
   "source": [
    "#print area and perimeter of triangle using class and functions"
   ]
  },
  {
   "cell_type": "code",
   "execution_count": 1,
   "metadata": {},
   "outputs": [
    {
     "name": "stdout",
     "output_type": "stream",
     "text": [
      "Height:32\n",
      "Breadth:34\n",
      "Area formula: ((Height*Breadth)/2)\n",
      "area of triangle:  544.0\n",
      "Height:2\n",
      "Height:4\n",
      "Breadth:4\n",
      "Perimeter formula: Height1+Height2+Breadth\n",
      "perimeter of triangle 10\n"
     ]
    }
   ],
   "source": [
    "def triangle():\n",
    "    Height=int(input(\"Height:\"))\n",
    "    Breadth=int(input(\"Breadth:\"))\n",
    "    print(\"Area formula: ((Height*Breadth)/2)\")\n",
    "    area=(Height*Breadth)/2\n",
    "    print(\"area of triangle: \",area)  \n",
    "    Height1=int(input(\"Height:\"))\n",
    "    Height2=int(input(\"Height:\"))\n",
    "    Breadth=int(input(\"Breadth:\"))\n",
    "    print(\"Perimeter formula: Height1+Height2+Breadth\")\n",
    "    perimeter=Height1+Height2+Breadth\n",
    "    print(\"perimeter of triangle\",perimeter)\n",
    "triangle()"
   ]
  },
  {
   "cell_type": "markdown",
   "metadata": {},
   "source": []
  },
  {
   "cell_type": "code",
   "execution_count": null,
   "metadata": {},
   "outputs": [],
   "source": []
  },
  {
   "cell_type": "code",
   "execution_count": null,
   "metadata": {},
   "outputs": [],
   "source": []
  },
  {
   "cell_type": "code",
   "execution_count": null,
   "metadata": {},
   "outputs": [],
   "source": []
  },
  {
   "cell_type": "code",
   "execution_count": null,
   "metadata": {},
   "outputs": [],
   "source": []
  }
 ],
 "metadata": {
  "kernelspec": {
   "display_name": "Python 3",
   "language": "python",
   "name": "python3"
  },
  "language_info": {
   "codemirror_mode": {
    "name": "ipython",
    "version": 3
   },
   "file_extension": ".py",
   "mimetype": "text/x-python",
   "name": "python",
   "nbconvert_exporter": "python",
   "pygments_lexer": "ipython3",
   "version": "3.7.4"
  }
 },
 "nbformat": 4,
 "nbformat_minor": 2
}
